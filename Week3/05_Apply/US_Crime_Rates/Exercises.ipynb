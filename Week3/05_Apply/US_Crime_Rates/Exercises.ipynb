{
 "cells": [
  {
   "cell_type": "markdown",
   "metadata": {
    "pycharm": {
     "name": "#%% md\n"
    }
   },
   "source": [
    "# United States - Crime Rates - 1960 - 2014"
   ]
  },
  {
   "cell_type": "markdown",
   "metadata": {
    "pycharm": {
     "name": "#%% md\n"
    }
   },
   "source": [
    "### Introduction:\n",
    "\n",
    "This time you will create a data \n",
    "\n",
    "Special thanks to: https://github.com/justmarkham for sharing the dataset and materials.\n",
    "\n",
    "### Step 1. Import the necessary libraries"
   ]
  },
  {
   "cell_type": "code",
   "execution_count": 1,
   "metadata": {
    "collapsed": false,
    "pycharm": {
     "name": "#%%\n"
    }
   },
   "outputs": [],
   "source": [
    "import pandas as pd\n"
   ]
  },
  {
   "cell_type": "markdown",
   "metadata": {
    "pycharm": {
     "name": "#%% md\n"
    }
   },
   "source": [
    "### Step 2. Import the dataset from this [address](https://raw.githubusercontent.com/thieu1995/csv-files/main/data/pandas/US_Crime_Rates_1960_2014.csv)."
   ]
  },
  {
   "cell_type": "code",
   "execution_count": 2,
   "metadata": {},
   "outputs": [],
   "source": [
    "url = 'https://raw.githubusercontent.com/thieu1995/csv-files/main/data/pandas/US_Crime_Rates_1960_2014.csv'\n",
    "data = pd.read_csv(url)"
   ]
  },
  {
   "cell_type": "markdown",
   "metadata": {
    "pycharm": {
     "name": "#%% md\n"
    }
   },
   "source": [
    "### Step 3. Assign it to a variable called crime."
   ]
  },
  {
   "cell_type": "code",
   "execution_count": 5,
   "metadata": {
    "collapsed": false,
    "pycharm": {
     "name": "#%%\n"
    }
   },
   "outputs": [
    {
     "name": "stdout",
     "output_type": "stream",
     "text": [
      "    Year  Population     Total  Violent  Property  Murder  Forcible_Rape  \\\n",
      "0   1960   179323175   3384200   288460   3095700    9110          17190   \n",
      "1   1961   182992000   3488000   289390   3198600    8740          17220   \n",
      "2   1962   185771000   3752200   301510   3450700    8530          17550   \n",
      "3   1963   188483000   4109500   316970   3792500    8640          17650   \n",
      "4   1964   191141000   4564600   364220   4200400    9360          21420   \n",
      "5   1965   193526000   4739400   387390   4352000    9960          23410   \n",
      "6   1966   195576000   5223500   430180   4793300   11040          25820   \n",
      "7   1967   197457000   5903400   499930   5403500   12240          27620   \n",
      "8   1968   199399000   6720200   595010   6125200   13800          31670   \n",
      "9   1969   201385000   7410900   661870   6749000   14760          37170   \n",
      "10  1970   203235298   8098000   738820   7359200   16000          37990   \n",
      "11  1971   206212000   8588200   816500   7771700   17780          42260   \n",
      "12  1972   208230000   8248800   834900   7413900   18670          46850   \n",
      "13  1973   209851000   8718100   875910   7842200   19640          51400   \n",
      "14  1974   211392000  10253400   974720   9278700   20710          55400   \n",
      "15  1975   213124000  11292400  1039710  10252700   20510          56090   \n",
      "16  1976   214659000  11349700  1004210  10345500   18780          57080   \n",
      "17  1977   216332000  10984500  1029580   9955000   19120          63500   \n",
      "18  1978   218059000  11209000  1085550  10123400   19560          67610   \n",
      "19  1979   220099000  12249500  1208030  11041500   21460          76390   \n",
      "20  1980   225349264  13408300  1344520  12063700   23040          82990   \n",
      "21  1981   229146000  13423800  1361820  12061900   22520          82500   \n",
      "22  1982   231534000  12974400  1322390  11652000   21010          78770   \n",
      "23  1983   233981000  12108600  1258090  10850500   19310          78920   \n",
      "24  1984   236158000  11881800  1273280  10608500   18690          84230   \n",
      "25  1985   238740000  12431400  1328800  11102600   18980          88670   \n",
      "26  1986   240132887  13211869  1489169  11722700   20613          91459   \n",
      "27  1987   242282918  13508700  1483999  12024700   20096          91110   \n",
      "28  1988   245807000  13923100  1566220  12356900   20680          92490   \n",
      "29  1989   248239000  14251400  1646040  12605400   21500          94500   \n",
      "30  1990   248709873  14475600  1820130  12655500   23440         102560   \n",
      "31  1991   252177000  14872900  1911770  12961100   24700         106590   \n",
      "32  1992   255082000  14438200  1932270  12505900   23760         109060   \n",
      "33  1993   257908000  14144800  1926020  12218800   24530         106010   \n",
      "34  1994   260341000  13989500  1857670  12131900   23330         102220   \n",
      "35  1995   262755000  13862700  1798790  12063900   21610          97470   \n",
      "36  1996   265228572  13493863  1688540  11805300   19650          96250   \n",
      "37  1997   267637000  13194571  1634770  11558175   18208          96153   \n",
      "38  1998   270296000  12475634  1531044  10944590   16914          93103   \n",
      "39  1999   272690813  11634378  1426044  10208334   15522          89411   \n",
      "40  2000   281421906  11608072  1425486  10182586   15586          90178   \n",
      "41  2001   285317559  11876669  1439480  10437480   16037          90863   \n",
      "42  2002   287973924  11878954  1423677  10455277   16229          95235   \n",
      "43  2003   290690788  11826538  1383676  10442862   16528          93883   \n",
      "44  2004   293656842  11679474  1360088  10319386   16148          95089   \n",
      "45  2005   296507061  11565499  1390745  10174754   16740          94347   \n",
      "46  2006   299398484  11401511  1418043   9983568   17030          92757   \n",
      "47  2007   301621157  11251828  1408337   9843481   16929          90427   \n",
      "48  2008   304374846  11160543  1392628   9767915   16442          90479   \n",
      "49  2009   307006550  10762956  1325896   9337060   15399          89241   \n",
      "50  2010   309330219  10363873  1251248   9112625   14772          85593   \n",
      "51  2011   311587816  10258774  1206031   9052743   14661          84175   \n",
      "52  2012   313873685  10219059  1217067   9001992   14866          85141   \n",
      "53  2013   316497531   9850445  1199684   8650761   14319          82109   \n",
      "54  2014   318857056   9475816  1197987   8277829   14249          84041   \n",
      "\n",
      "    Robbery  Aggravated_assault  Burglary  Larceny_Theft  Vehicle_Theft  \n",
      "0    107840              154320    912100        1855400         328200  \n",
      "1    106670              156760    949600        1913000         336000  \n",
      "2    110860              164570    994300        2089600         366800  \n",
      "3    116470              174210   1086400        2297800         408300  \n",
      "4    130390              203050   1213200        2514400         472800  \n",
      "5    138690              215330   1282500        2572600         496900  \n",
      "6    157990              235330   1410100        2822000         561200  \n",
      "7    202910              257160   1632100        3111600         659800  \n",
      "8    262840              286700   1858900        3482700         783600  \n",
      "9    298850              311090   1981900        3888600         878500  \n",
      "10   349860              334970   2205000        4225800         928400  \n",
      "11   387700              368760   2399300        4424200         948200  \n",
      "12   376290              393090   2375500        4151200         887200  \n",
      "13   384220              420650   2565500        4347900         928800  \n",
      "14   442400              456210   3039200        5262500         977100  \n",
      "15   470500              492620   3265300        5977700        1009600  \n",
      "16   427810              500530   3108700        6270800         966000  \n",
      "17   412610              534350   3071500        5905700         977700  \n",
      "18   426930              571460   3128300        5991000        1004100  \n",
      "19   480700              629480   3327700        6601000        1112800  \n",
      "20   565840              672650   3795200        7136900        1131700  \n",
      "21   592910              663900   3779700        7194400        1087800  \n",
      "22   553130              669480   3447100        7142500        1062400  \n",
      "23   506570              653290   3129900        6712800        1007900  \n",
      "24   485010              685350   2984400        6591900        1032200  \n",
      "25   497870              723250   3073300        6926400        1102900  \n",
      "26   542775              834322   3241410        7257153        1224137  \n",
      "27   517704              855088   3236184        7499900        1288674  \n",
      "28   542970              910090   3218100        7705900        1432900  \n",
      "29   578330              951710   3168200        7872400        1564800  \n",
      "30   639270             1054860   3073900        7945700        1635900  \n",
      "31   687730             1092740   3157200        8142200        1661700  \n",
      "32   672480             1126970   2979900        7915200        1610800  \n",
      "33   659870             1135610   2834800        7820900        1563100  \n",
      "34   618950             1113180   2712800        7879800        1539300  \n",
      "35   580510             1099210   2593800        7997700        1472400  \n",
      "36   535590             1037050   2506400        7904700        1394200  \n",
      "37   498534             1023201   2460526        7743760        1354189  \n",
      "38   446625              974402   2329950        7373886        1240754  \n",
      "39   409371              911740   2100739        6955520        1152075  \n",
      "40   408016              911706   2050992        6971590        1160002  \n",
      "41   423557              909023   2116531        7092267        1228391  \n",
      "42   420806              891407   2151252        7057370        1246646  \n",
      "43   414235              859030   2154834        7026802        1261226  \n",
      "44   401470              847381   2144446        6937089        1237851  \n",
      "45   417438              862220   2155448        6783447        1235859  \n",
      "46   447403              860853   2183746        6607013        1192809  \n",
      "47   445125              855856   2176140        6568572        1095769  \n",
      "48   443574              842134   2228474        6588046         958629  \n",
      "49   408742              812514   2203313        6338095         795652  \n",
      "50   369089              781844   2168457        6204601         739565  \n",
      "51   354772              752423   2185140        6151095         716508  \n",
      "52   355051              762009   2109932        6168874         723186  \n",
      "53   345095              726575   1931835        6018632         700294  \n",
      "54   325802              741291   1729806        5858496         689527  \n"
     ]
    }
   ],
   "source": [
    "crime = data\n",
    "print(crime)\n"
   ]
  },
  {
   "cell_type": "markdown",
   "metadata": {
    "pycharm": {
     "name": "#%% md\n"
    }
   },
   "source": [
    "### Step 4. What is the type of the columns?"
   ]
  },
  {
   "cell_type": "code",
   "execution_count": 6,
   "metadata": {
    "collapsed": false,
    "pycharm": {
     "name": "#%%\n"
    }
   },
   "outputs": [
    {
     "name": "stdout",
     "output_type": "stream",
     "text": [
      "Year                  int64\n",
      "Population            int64\n",
      "Total                 int64\n",
      "Violent               int64\n",
      "Property              int64\n",
      "Murder                int64\n",
      "Forcible_Rape         int64\n",
      "Robbery               int64\n",
      "Aggravated_assault    int64\n",
      "Burglary              int64\n",
      "Larceny_Theft         int64\n",
      "Vehicle_Theft         int64\n",
      "dtype: object\n"
     ]
    }
   ],
   "source": [
    "print(crime.dtypes)"
   ]
  },
  {
   "cell_type": "markdown",
   "metadata": {
    "pycharm": {
     "name": "#%% md\n"
    }
   },
   "source": [
    "##### Have you noticed that the type of Year is int64. But pandas has a different type to work with Time Series. Let's see it now.\n",
    "\n",
    "### Step 5. Convert the type of the column Year to datetime64"
   ]
  },
  {
   "cell_type": "code",
   "execution_count": 8,
   "metadata": {
    "collapsed": false,
    "pycharm": {
     "name": "#%%\n"
    }
   },
   "outputs": [
    {
     "name": "stdout",
     "output_type": "stream",
     "text": [
      "Year                  datetime64[ns]\n",
      "Population                     int64\n",
      "Total                          int64\n",
      "Violent                        int64\n",
      "Property                       int64\n",
      "Murder                         int64\n",
      "Forcible_Rape                  int64\n",
      "Robbery                        int64\n",
      "Aggravated_assault             int64\n",
      "Burglary                       int64\n",
      "Larceny_Theft                  int64\n",
      "Vehicle_Theft                  int64\n",
      "dtype: object\n"
     ]
    }
   ],
   "source": [
    "crime['Year'] = pd.to_datetime(crime['Year'], format='%Y')\n",
    "\n",
    "print(crime.dtypes)"
   ]
  },
  {
   "cell_type": "markdown",
   "metadata": {
    "pycharm": {
     "name": "#%% md\n"
    }
   },
   "source": [
    "### Step 6. Set the Year column as the index of the dataframe"
   ]
  },
  {
   "cell_type": "code",
   "execution_count": 9,
   "metadata": {
    "collapsed": false,
    "pycharm": {
     "name": "#%%\n"
    }
   },
   "outputs": [
    {
     "name": "stdout",
     "output_type": "stream",
     "text": [
      "            Population    Total  Violent  Property  Murder  Forcible_Rape  \\\n",
      "Year                                                                        \n",
      "1960-01-01   179323175  3384200   288460   3095700    9110          17190   \n",
      "1961-01-01   182992000  3488000   289390   3198600    8740          17220   \n",
      "1962-01-01   185771000  3752200   301510   3450700    8530          17550   \n",
      "1963-01-01   188483000  4109500   316970   3792500    8640          17650   \n",
      "1964-01-01   191141000  4564600   364220   4200400    9360          21420   \n",
      "\n",
      "            Robbery  Aggravated_assault  Burglary  Larceny_Theft  \\\n",
      "Year                                                               \n",
      "1960-01-01   107840              154320    912100        1855400   \n",
      "1961-01-01   106670              156760    949600        1913000   \n",
      "1962-01-01   110860              164570    994300        2089600   \n",
      "1963-01-01   116470              174210   1086400        2297800   \n",
      "1964-01-01   130390              203050   1213200        2514400   \n",
      "\n",
      "            Vehicle_Theft  \n",
      "Year                       \n",
      "1960-01-01         328200  \n",
      "1961-01-01         336000  \n",
      "1962-01-01         366800  \n",
      "1963-01-01         408300  \n",
      "1964-01-01         472800  \n"
     ]
    }
   ],
   "source": [
    "crime = crime.set_index('Year')\n",
    "print(crime.head())"
   ]
  },
  {
   "cell_type": "markdown",
   "metadata": {
    "pycharm": {
     "name": "#%% md\n"
    }
   },
   "source": [
    "### Step 7. Delete the Total column"
   ]
  },
  {
   "cell_type": "code",
   "execution_count": 12,
   "metadata": {
    "collapsed": false,
    "pycharm": {
     "name": "#%%\n"
    }
   },
   "outputs": [
    {
     "name": "stdout",
     "output_type": "stream",
     "text": [
      "            Population  Violent  Property  Murder  Forcible_Rape  Robbery  \\\n",
      "Year                                                                        \n",
      "1960-01-01   179323175   288460   3095700    9110          17190   107840   \n",
      "1961-01-01   182992000   289390   3198600    8740          17220   106670   \n",
      "1962-01-01   185771000   301510   3450700    8530          17550   110860   \n",
      "1963-01-01   188483000   316970   3792500    8640          17650   116470   \n",
      "1964-01-01   191141000   364220   4200400    9360          21420   130390   \n",
      "\n",
      "            Aggravated_assault  Burglary  Larceny_Theft  Vehicle_Theft  \n",
      "Year                                                                    \n",
      "1960-01-01              154320    912100        1855400         328200  \n",
      "1961-01-01              156760    949600        1913000         336000  \n",
      "1962-01-01              164570    994300        2089600         366800  \n",
      "1963-01-01              174210   1086400        2297800         408300  \n",
      "1964-01-01              203050   1213200        2514400         472800  \n"
     ]
    }
   ],
   "source": [
    "crime = crime.drop(columns=['Total'])\n",
    "print (crime.head())"
   ]
  },
  {
   "cell_type": "markdown",
   "metadata": {
    "pycharm": {
     "name": "#%% md\n"
    }
   },
   "source": [
    "### Step 8. Group the year by decades and sum the values\n",
    "\n",
    "#### Pay attention to the Population column number, summing this column is a mistake"
   ]
  },
  {
   "cell_type": "code",
   "execution_count": null,
   "metadata": {
    "collapsed": false,
    "pycharm": {
     "name": "#%%\n"
    },
    "scrolled": true
   },
   "outputs": [
    {
     "name": "stdout",
     "output_type": "stream",
     "text": [
      "         Violent   Property  Murder  Forcible_Rape  Robbery  \\\n",
      "Decade                                                        \n",
      "1960     4134930   45160900  106180         236720  1633510   \n",
      "1970     9607930   91383800  192230         554570  4159020   \n",
      "1980    14074328  117048900  206439         865639  5383109   \n",
      "1990    17527048  119053499  211664         998827  5748930   \n",
      "2000    13968056  100944369  163068         922499  4230366   \n",
      "2010     6072017   44095950   72867         421059  1749809   \n",
      "\n",
      "        Aggravated_assault  Burglary  Larceny_Theft  Vehicle_Theft  Population  \n",
      "Decade                                                                          \n",
      "1960               2158520  13321100       26547700        5292100   201385000  \n",
      "1970               4702120  28486000       53157800        9739900   220099000  \n",
      "1980               7619130  33073494       72040253       11935411   248239000  \n",
      "1990              10568963  26750015       77679366       14624418   272690813  \n",
      "2000               8652124  21565176       67970291       11412834   307006550  \n",
      "2010               3764142  10125170       30401698        3569080   318857056  \n"
     ]
    }
   ],
   "source": [
    "crime['Decade'] = (crime.index.year // 10) * 10\n",
    "\n",
    "decade_sums = crime.drop(columns=['Population']).groupby('Decade').sum()\n",
    "\n",
    "population_last = crime.groupby('Decade')['Population'].last()\n",
    "\n",
    "decade_data = decade_sums.join(population_last)\n",
    "\n",
    "print(decade_data)"
   ]
  },
  {
   "cell_type": "markdown",
   "metadata": {
    "pycharm": {
     "name": "#%% md\n"
    }
   },
   "source": [
    "### Step 9. What is the most dangerous decade to live in the US?"
   ]
  },
  {
   "cell_type": "code",
   "execution_count": 17,
   "metadata": {},
   "outputs": [
    {
     "name": "stdout",
     "output_type": "stream",
     "text": [
      "The most dangerous decade to live in the US was the 1990s.\n"
     ]
    }
   ],
   "source": [
    "most_dangerous_decade = decade_data['Violent'].idxmax()\n",
    "print(f\"The most dangerous decade to live in the US was the {most_dangerous_decade}s.\")"
   ]
  }
 ],
 "metadata": {
  "anaconda-cloud": {},
  "kernelspec": {
   "display_name": "Python 3",
   "language": "python",
   "name": "python3"
  },
  "language_info": {
   "codemirror_mode": {
    "name": "ipython",
    "version": 3
   },
   "file_extension": ".py",
   "mimetype": "text/x-python",
   "name": "python",
   "nbconvert_exporter": "python",
   "pygments_lexer": "ipython3",
   "version": "3.11.2"
  }
 },
 "nbformat": 4,
 "nbformat_minor": 0
}
